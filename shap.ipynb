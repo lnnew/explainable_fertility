{
 "cells": [
  {
   "cell_type": "markdown",
   "metadata": {},
   "source": ["# Welcome to Jupyter Notebook\n", "This is a markdown cell."]
  },
  {
   "cell_type": "code",
   "execution_count": null,
   "metadata": {},
   "outputs": [],
   "source": ["print('Hello, world!')"]
  }
 ],
 "metadata": {
  "language_info": {
   "name": "python"
  }
 },
 "nbformat": 4,
 "nbformat_minor": 2
}
